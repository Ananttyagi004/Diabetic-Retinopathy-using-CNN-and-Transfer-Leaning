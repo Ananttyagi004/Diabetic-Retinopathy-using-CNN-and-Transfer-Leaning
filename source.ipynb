{
 "cells": [
  {
   "cell_type": "code",
   "execution_count": 1,
   "metadata": {},
   "outputs": [],
   "source": [
    "import warnings \n",
    "warnings.filterwarnings('ignore')"
   ]
  },
  {
   "cell_type": "code",
   "execution_count": 2,
   "metadata": {},
   "outputs": [],
   "source": [
    "#importing dependencies\n",
    "import numpy as np\n",
    "import matplotlib.pyplot as plt\n",
    "import os\n",
    "import math\n",
    "import shutil\n",
    "import glob"
   ]
  },
  {
   "cell_type": "code",
   "execution_count": 3,
   "metadata": {},
   "outputs": [],
   "source": [
    "# count the number of images in Diabetic and Non Diabetic sets\n",
    "ROOT_DIR=\"D:\\Internship Code Clause\\Diabetic-Retinopathy-using-CNN-and-Transfer-Leaning\\dataset\"\n",
    "\n",
    "number_of_images={}\n",
    "for dir in os.listdir(ROOT_DIR):\n",
    "    number_of_images[dir]=len(os.listdir(os.path.join(ROOT_DIR,dir)))"
   ]
  },
  {
   "cell_type": "code",
   "execution_count": 5,
   "metadata": {},
   "outputs": [
    {
     "data": {
      "text/plain": [
       "dict_items([('DR', 1592), ('No_DR', 1548)])"
      ]
     },
     "execution_count": 5,
     "metadata": {},
     "output_type": "execute_result"
    }
   ],
   "source": [
    "number_of_images.items()"
   ]
  },
  {
   "cell_type": "code",
   "execution_count": 6,
   "metadata": {},
   "outputs": [],
   "source": [
    "# we will split the data such that 70% train data and 15% validataion and 15% test data"
   ]
  },
  {
   "cell_type": "code",
   "execution_count": 7,
   "metadata": {},
   "outputs": [],
   "source": [
    "#Function to create the train,test,validation sets\n",
    "def foldercreator(path,split):\n",
    "    if not os.path.exists(\"./\"+path):\n",
    "        os.mkdir(\"./\"+path)\n",
    "        for dir in os.listdir(ROOT_DIR):\n",
    "            os.makedirs(\"./\"+path+\"./\"+dir)\n",
    "            for img in np.random.choice(a=os.listdir(os.path.join(ROOT_DIR,dir)),size=(math.floor(split*number_of_images[dir])-5),replace=False):\n",
    "                o=os.path.join(ROOT_DIR,dir,img)# path\n",
    "                D=os.path.join(\"./\"+path,dir)\n",
    "                shutil.copy(o,D)\n",
    "                os.remove(o)\n",
    "\n",
    "    else:\n",
    "        print(\"The folder exsist\")"
   ]
  },
  {
   "cell_type": "code",
   "execution_count": 8,
   "metadata": {},
   "outputs": [],
   "source": [
    "foldercreator(\"train\",0.7)\n",
    "foldercreator(\"test\",0.15)\n",
    "foldercreator(\"validation\",0.15)"
   ]
  },
  {
   "cell_type": "code",
   "execution_count": 9,
   "metadata": {},
   "outputs": [],
   "source": [
    "#Model Building \n",
    "from keras.layers import Conv2D,MaxPool2D,Dropout,Flatten,Dense,BatchNormalization,GlobalAvgPool2D\n",
    "from keras.models import Sequential\n",
    "from keras_preprocessing.image import load_img,img_to_array"
   ]
  },
  {
   "cell_type": "code",
   "execution_count": 10,
   "metadata": {},
   "outputs": [
    {
     "name": "stdout",
     "output_type": "stream",
     "text": [
      "Model: \"sequential\"\n",
      "_________________________________________________________________\n",
      " Layer (type)                Output Shape              Param #   \n",
      "=================================================================\n",
      " conv2d (Conv2D)             (None, 222, 222, 16)      448       \n",
      "                                                                 \n",
      " conv2d_1 (Conv2D)           (None, 220, 220, 36)      5220      \n",
      "                                                                 \n",
      " max_pooling2d (MaxPooling2D  (None, 110, 110, 36)     0         \n",
      " )                                                               \n",
      "                                                                 \n",
      " conv2d_2 (Conv2D)           (None, 108, 108, 64)      20800     \n",
      "                                                                 \n",
      " max_pooling2d_1 (MaxPooling  (None, 54, 54, 64)       0         \n",
      " 2D)                                                             \n",
      "                                                                 \n",
      " conv2d_3 (Conv2D)           (None, 52, 52, 128)       73856     \n",
      "                                                                 \n",
      " max_pooling2d_2 (MaxPooling  (None, 26, 26, 128)      0         \n",
      " 2D)                                                             \n",
      "                                                                 \n",
      " dropout (Dropout)           (None, 26, 26, 128)       0         \n",
      "                                                                 \n",
      " flatten (Flatten)           (None, 86528)             0         \n",
      "                                                                 \n",
      " dense (Dense)               (None, 64)                5537856   \n",
      "                                                                 \n",
      " dropout_1 (Dropout)         (None, 64)                0         \n",
      "                                                                 \n",
      " dense_1 (Dense)             (None, 1)                 65        \n",
      "                                                                 \n",
      "=================================================================\n",
      "Total params: 5,638,245\n",
      "Trainable params: 5,638,245\n",
      "Non-trainable params: 0\n",
      "_________________________________________________________________\n"
     ]
    }
   ],
   "source": [
    "#CNN MODEL\n",
    "model=Sequential()\n",
    "model.add(Conv2D(filters=16,kernel_size=(3,3),activation='relu',input_shape=(224,224,3)))\n",
    "model.add(Conv2D(filters=36, kernel_size=(3,3),activation='relu'))\n",
    "model.add(MaxPool2D(pool_size=(2,2)))\n",
    "model.add(Conv2D(filters=64, kernel_size=(3,3),activation='relu'))\n",
    "model.add(MaxPool2D(pool_size=(2,2)))\n",
    "model.add(Conv2D(filters=128, kernel_size=(3,3),activation='relu'))\n",
    "model.add(MaxPool2D(pool_size=(2,2)))\n",
    "model.add(Dropout(rate=0.25))\n",
    "model.add(Flatten())\n",
    "model.add(Dense(units=64,activation='relu'))\n",
    "model.add(Dropout(rate=0.25))\n",
    "model.add(Dense(units=1,activation='sigmoid'))\n",
    "model.summary()"
   ]
  },
  {
   "cell_type": "code",
   "execution_count": 11,
   "metadata": {},
   "outputs": [],
   "source": [
    "import keras.losses"
   ]
  },
  {
   "cell_type": "code",
   "execution_count": 12,
   "metadata": {},
   "outputs": [],
   "source": [
    "model.compile(optimizer='adam',loss=keras.losses.binary_crossentropy, metrics=['accuracy'])"
   ]
  },
  {
   "cell_type": "code",
   "execution_count": 13,
   "metadata": {},
   "outputs": [],
   "source": [
    "#Preparing our data using data generator\n",
    "from keras.preprocessing.image import  ImageDataGenerator"
   ]
  },
  {
   "cell_type": "code",
   "execution_count": 14,
   "metadata": {},
   "outputs": [],
   "source": [
    "def preprocessingImages(path):\n",
    " \"\"\"\n",
    " input : Path\n",
    " output :Preprocessed images\n",
    " \n",
    " \"\"\"\n",
    " image_data=ImageDataGenerator(zoom_range=0.2,shear_range=0.2,rescale=1/255, horizontal_flip=True)\n",
    " image=image_data.flow_from_directory(directory=path,target_size=(224,224),batch_size=32,class_mode='binary')\n",
    "\n",
    " return image"
   ]
  },
  {
   "cell_type": "code",
   "execution_count": 15,
   "metadata": {},
   "outputs": [
    {
     "name": "stdout",
     "output_type": "stream",
     "text": [
      "Found 2187 images belonging to 2 classes.\n"
     ]
    }
   ],
   "source": [
    "path='train'\n",
    "train_data=preprocessingImages(path)"
   ]
  },
  {
   "cell_type": "code",
   "execution_count": 16,
   "metadata": {},
   "outputs": [],
   "source": [
    "def preprocessingImages_validate(path):\n",
    " \"\"\"\n",
    " input : Path\n",
    " output :Preprocessed images\n",
    " \n",
    " \"\"\"\n",
    " image_data=ImageDataGenerator(rescale=1/255)\n",
    " image=image_data.flow_from_directory(directory=path,target_size=(224,224),batch_size=32,class_mode='binary')\n",
    "\n",
    " return image"
   ]
  },
  {
   "cell_type": "code",
   "execution_count": 17,
   "metadata": {},
   "outputs": [
    {
     "name": "stdout",
     "output_type": "stream",
     "text": [
      "Found 460 images belonging to 2 classes.\n"
     ]
    }
   ],
   "source": [
    "test_path='test'\n",
    "test_data=preprocessingImages_validate(test_path)"
   ]
  },
  {
   "cell_type": "code",
   "execution_count": 18,
   "metadata": {},
   "outputs": [
    {
     "name": "stdout",
     "output_type": "stream",
     "text": [
      "Found 460 images belonging to 2 classes.\n"
     ]
    }
   ],
   "source": [
    "validate_path='validation'\n",
    "validation_data=preprocessingImages_validate(validate_path)"
   ]
  },
  {
   "cell_type": "code",
   "execution_count": 24,
   "metadata": {},
   "outputs": [],
   "source": [
    "from keras.callbacks import ModelCheckpoint,EarlyStopping\n",
    "#early stopping \n",
    "es=EarlyStopping(monitor=\"accuracy\", min_delta=0.01, patience=20, verbose=1,mode='auto')\n",
    "#model checkpoint \n",
    "mc=ModelCheckpoint(monitor=\"accuracy\", filepath='./bestmodel.h5',verbose=1,save_best_only=True,mode='auto')\n",
    "cd=[es,mc]"
   ]
  },
  {
   "cell_type": "code",
   "execution_count": 25,
   "metadata": {},
   "outputs": [
    {
     "name": "stdout",
     "output_type": "stream",
     "text": [
      "Epoch 1/50\n",
      "8/8 [==============================] - ETA: 0s - loss: 0.2167 - accuracy: 0.9180\n",
      "Epoch 1: accuracy improved from -inf to 0.91797, saving model to .\\bestmodel.h5\n",
      "8/8 [==============================] - 14s 2s/step - loss: 0.2167 - accuracy: 0.9180\n",
      "Epoch 2/50\n",
      "8/8 [==============================] - ETA: 0s - loss: 0.2022 - accuracy: 0.9180\n",
      "Epoch 2: accuracy did not improve from 0.91797\n",
      "8/8 [==============================] - 14s 2s/step - loss: 0.2022 - accuracy: 0.9180\n",
      "Epoch 3/50\n",
      "8/8 [==============================] - ETA: 0s - loss: 0.1962 - accuracy: 0.9180\n",
      "Epoch 3: accuracy did not improve from 0.91797\n",
      "8/8 [==============================] - 14s 2s/step - loss: 0.1962 - accuracy: 0.9180\n",
      "Epoch 4/50\n",
      "8/8 [==============================] - ETA: 0s - loss: 0.1990 - accuracy: 0.9258\n",
      "Epoch 4: accuracy improved from 0.91797 to 0.92578, saving model to .\\bestmodel.h5\n",
      "8/8 [==============================] - 14s 2s/step - loss: 0.1990 - accuracy: 0.9258\n",
      "Epoch 5/50\n",
      "8/8 [==============================] - ETA: 0s - loss: 0.2187 - accuracy: 0.9149\n",
      "Epoch 5: accuracy did not improve from 0.92578\n",
      "8/8 [==============================] - 13s 2s/step - loss: 0.2187 - accuracy: 0.9149\n",
      "Epoch 6/50\n",
      "8/8 [==============================] - ETA: 0s - loss: 0.1877 - accuracy: 0.9336\n",
      "Epoch 6: accuracy improved from 0.92578 to 0.93359, saving model to .\\bestmodel.h5\n",
      "8/8 [==============================] - 14s 2s/step - loss: 0.1877 - accuracy: 0.9336\n",
      "Epoch 7/50\n",
      "8/8 [==============================] - ETA: 0s - loss: 0.1716 - accuracy: 0.9297\n",
      "Epoch 7: accuracy did not improve from 0.93359\n",
      "8/8 [==============================] - 14s 2s/step - loss: 0.1716 - accuracy: 0.9297\n",
      "Epoch 8/50\n",
      "8/8 [==============================] - ETA: 0s - loss: 0.2213 - accuracy: 0.9336\n",
      "Epoch 8: accuracy did not improve from 0.93359\n",
      "8/8 [==============================] - 14s 2s/step - loss: 0.2213 - accuracy: 0.9336\n",
      "Epoch 9/50\n",
      "8/8 [==============================] - ETA: 0s - loss: 0.2268 - accuracy: 0.9219\n",
      "Epoch 9: accuracy did not improve from 0.93359\n",
      "8/8 [==============================] - 14s 2s/step - loss: 0.2268 - accuracy: 0.9219\n",
      "Epoch 10/50\n",
      "8/8 [==============================] - ETA: 0s - loss: 0.1992 - accuracy: 0.9180\n",
      "Epoch 10: accuracy did not improve from 0.93359\n",
      "8/8 [==============================] - 14s 2s/step - loss: 0.1992 - accuracy: 0.9180\n",
      "Epoch 11/50\n",
      "8/8 [==============================] - ETA: 0s - loss: 0.2198 - accuracy: 0.9258\n",
      "Epoch 11: accuracy did not improve from 0.93359\n",
      "8/8 [==============================] - 14s 2s/step - loss: 0.2198 - accuracy: 0.9258\n",
      "Epoch 12/50\n",
      "8/8 [==============================] - ETA: 0s - loss: 0.2263 - accuracy: 0.9297\n",
      "Epoch 12: accuracy did not improve from 0.93359\n",
      "8/8 [==============================] - 14s 2s/step - loss: 0.2263 - accuracy: 0.9297\n",
      "Epoch 13/50\n",
      "8/8 [==============================] - ETA: 0s - loss: 0.1952 - accuracy: 0.9180\n",
      "Epoch 13: accuracy did not improve from 0.93359\n",
      "8/8 [==============================] - 14s 2s/step - loss: 0.1952 - accuracy: 0.9180\n",
      "Epoch 14/50\n",
      "8/8 [==============================] - ETA: 0s - loss: 0.2103 - accuracy: 0.9234\n",
      "Epoch 14: accuracy did not improve from 0.93359\n",
      "8/8 [==============================] - 13s 2s/step - loss: 0.2103 - accuracy: 0.9234\n",
      "Epoch 15/50\n",
      "8/8 [==============================] - ETA: 0s - loss: 0.2133 - accuracy: 0.9258\n",
      "Epoch 15: accuracy did not improve from 0.93359\n",
      "8/8 [==============================] - 14s 2s/step - loss: 0.2133 - accuracy: 0.9258\n",
      "Epoch 16/50\n",
      "8/8 [==============================] - ETA: 0s - loss: 0.2086 - accuracy: 0.9336\n",
      "Epoch 16: accuracy did not improve from 0.93359\n",
      "8/8 [==============================] - 22s 3s/step - loss: 0.2086 - accuracy: 0.9336\n",
      "Epoch 17/50\n",
      "8/8 [==============================] - ETA: 0s - loss: 0.1788 - accuracy: 0.9336\n",
      "Epoch 17: accuracy did not improve from 0.93359\n",
      "8/8 [==============================] - 30s 4s/step - loss: 0.1788 - accuracy: 0.9336\n",
      "Epoch 18/50\n",
      "8/8 [==============================] - ETA: 0s - loss: 0.2149 - accuracy: 0.9180\n",
      "Epoch 18: accuracy did not improve from 0.93359\n",
      "8/8 [==============================] - 31s 4s/step - loss: 0.2149 - accuracy: 0.9180\n",
      "Epoch 19/50\n",
      "8/8 [==============================] - ETA: 0s - loss: 0.1673 - accuracy: 0.9336\n",
      "Epoch 19: accuracy did not improve from 0.93359\n",
      "8/8 [==============================] - 29s 3s/step - loss: 0.1673 - accuracy: 0.9336\n",
      "Epoch 20/50\n",
      "8/8 [==============================] - ETA: 0s - loss: 0.1909 - accuracy: 0.9258\n",
      "Epoch 20: accuracy did not improve from 0.93359\n",
      "8/8 [==============================] - 30s 4s/step - loss: 0.1909 - accuracy: 0.9258\n",
      "Epoch 21/50\n",
      "8/8 [==============================] - ETA: 0s - loss: 0.1836 - accuracy: 0.9453\n",
      "Epoch 21: accuracy improved from 0.93359 to 0.94531, saving model to .\\bestmodel.h5\n",
      "8/8 [==============================] - 30s 4s/step - loss: 0.1836 - accuracy: 0.9453\n",
      "Epoch 22/50\n",
      "8/8 [==============================] - ETA: 0s - loss: 0.2249 - accuracy: 0.9362\n",
      "Epoch 22: accuracy did not improve from 0.94531\n",
      "8/8 [==============================] - 27s 3s/step - loss: 0.2249 - accuracy: 0.9362\n",
      "Epoch 23/50\n",
      "8/8 [==============================] - ETA: 0s - loss: 0.2014 - accuracy: 0.9219\n",
      "Epoch 23: accuracy did not improve from 0.94531\n",
      "8/8 [==============================] - 31s 4s/step - loss: 0.2014 - accuracy: 0.9219\n",
      "Epoch 24/50\n",
      "8/8 [==============================] - ETA: 0s - loss: 0.2220 - accuracy: 0.9258\n",
      "Epoch 24: accuracy did not improve from 0.94531\n",
      "8/8 [==============================] - 30s 4s/step - loss: 0.2220 - accuracy: 0.9258\n",
      "Epoch 25/50\n",
      "8/8 [==============================] - ETA: 0s - loss: 0.2167 - accuracy: 0.9102\n",
      "Epoch 25: accuracy did not improve from 0.94531\n",
      "8/8 [==============================] - 30s 4s/step - loss: 0.2167 - accuracy: 0.9102\n",
      "Epoch 26/50\n",
      "8/8 [==============================] - ETA: 0s - loss: 0.2432 - accuracy: 0.9141\n",
      "Epoch 26: accuracy did not improve from 0.94531\n",
      "8/8 [==============================] - 30s 4s/step - loss: 0.2432 - accuracy: 0.9141\n",
      "Epoch 27/50\n",
      "8/8 [==============================] - ETA: 0s - loss: 0.2351 - accuracy: 0.9319\n",
      "Epoch 27: accuracy did not improve from 0.94531\n",
      "8/8 [==============================] - 28s 3s/step - loss: 0.2351 - accuracy: 0.9319\n",
      "Epoch 28/50\n",
      "8/8 [==============================] - ETA: 0s - loss: 0.2715 - accuracy: 0.9023\n",
      "Epoch 28: accuracy did not improve from 0.94531\n",
      "8/8 [==============================] - 25s 3s/step - loss: 0.2715 - accuracy: 0.9023\n",
      "Epoch 29/50\n",
      "8/8 [==============================] - ETA: 0s - loss: 0.2536 - accuracy: 0.9180\n",
      "Epoch 29: accuracy did not improve from 0.94531\n",
      "8/8 [==============================] - 17s 2s/step - loss: 0.2536 - accuracy: 0.9180\n",
      "Epoch 30/50\n",
      "8/8 [==============================] - ETA: 0s - loss: 0.2035 - accuracy: 0.9297\n",
      "Epoch 30: accuracy did not improve from 0.94531\n",
      "8/8 [==============================] - 13s 2s/step - loss: 0.2035 - accuracy: 0.9297\n",
      "Epoch 31/50\n",
      "8/8 [==============================] - ETA: 0s - loss: 0.1903 - accuracy: 0.9453\n",
      "Epoch 31: accuracy did not improve from 0.94531\n",
      "8/8 [==============================] - 14s 2s/step - loss: 0.1903 - accuracy: 0.9453\n",
      "Epoch 32/50\n",
      "8/8 [==============================] - ETA: 0s - loss: 0.2404 - accuracy: 0.9141\n",
      "Epoch 32: accuracy did not improve from 0.94531\n",
      "8/8 [==============================] - 13s 2s/step - loss: 0.2404 - accuracy: 0.9141\n",
      "Epoch 33/50\n",
      "8/8 [==============================] - ETA: 0s - loss: 0.1716 - accuracy: 0.9489\n",
      "Epoch 33: accuracy improved from 0.94531 to 0.94894, saving model to .\\bestmodel.h5\n",
      "8/8 [==============================] - 13s 1s/step - loss: 0.1716 - accuracy: 0.9489\n",
      "Epoch 34/50\n",
      "8/8 [==============================] - ETA: 0s - loss: 0.2542 - accuracy: 0.8945\n",
      "Epoch 34: accuracy did not improve from 0.94894\n",
      "8/8 [==============================] - 13s 2s/step - loss: 0.2542 - accuracy: 0.8945\n",
      "Epoch 35/50\n",
      "8/8 [==============================] - ETA: 0s - loss: 0.2822 - accuracy: 0.9062\n",
      "Epoch 35: accuracy did not improve from 0.94894\n",
      "8/8 [==============================] - 14s 2s/step - loss: 0.2822 - accuracy: 0.9062\n",
      "Epoch 36/50\n",
      "8/8 [==============================] - ETA: 0s - loss: 0.1917 - accuracy: 0.9180\n",
      "Epoch 36: accuracy did not improve from 0.94894\n",
      "8/8 [==============================] - 28s 4s/step - loss: 0.1917 - accuracy: 0.9180\n",
      "Epoch 37/50\n",
      "8/8 [==============================] - ETA: 0s - loss: 0.1919 - accuracy: 0.9492\n",
      "Epoch 37: accuracy improved from 0.94894 to 0.94922, saving model to .\\bestmodel.h5\n",
      "8/8 [==============================] - 29s 4s/step - loss: 0.1919 - accuracy: 0.9492\n",
      "Epoch 38/50\n",
      "8/8 [==============================] - ETA: 0s - loss: 0.2322 - accuracy: 0.9149\n",
      "Epoch 38: accuracy did not improve from 0.94922\n",
      "8/8 [==============================] - 27s 3s/step - loss: 0.2322 - accuracy: 0.9149\n",
      "Epoch 39/50\n",
      "8/8 [==============================] - ETA: 0s - loss: 0.2027 - accuracy: 0.9277\n",
      "Epoch 39: accuracy did not improve from 0.94922\n",
      "8/8 [==============================] - 27s 3s/step - loss: 0.2027 - accuracy: 0.9277\n",
      "Epoch 40/50\n",
      "8/8 [==============================] - ETA: 0s - loss: 0.1965 - accuracy: 0.9297\n",
      "Epoch 40: accuracy did not improve from 0.94922\n",
      "8/8 [==============================] - 29s 4s/step - loss: 0.1965 - accuracy: 0.9297\n",
      "Epoch 41/50\n",
      "8/8 [==============================] - ETA: 0s - loss: 0.1829 - accuracy: 0.9570\n",
      "Epoch 41: accuracy improved from 0.94922 to 0.95703, saving model to .\\bestmodel.h5\n",
      "8/8 [==============================] - 29s 3s/step - loss: 0.1829 - accuracy: 0.9570\n",
      "Epoch 42/50\n",
      "8/8 [==============================] - ETA: 0s - loss: 0.1901 - accuracy: 0.9102\n",
      "Epoch 42: accuracy did not improve from 0.95703\n",
      "8/8 [==============================] - 28s 3s/step - loss: 0.1901 - accuracy: 0.9102\n",
      "Epoch 43/50\n",
      "8/8 [==============================] - ETA: 0s - loss: 0.1177 - accuracy: 0.9531\n",
      "Epoch 43: accuracy did not improve from 0.95703\n",
      "8/8 [==============================] - 29s 3s/step - loss: 0.1177 - accuracy: 0.9531\n",
      "Epoch 44/50\n",
      "8/8 [==============================] - ETA: 0s - loss: 0.2234 - accuracy: 0.9277\n",
      "Epoch 44: accuracy did not improve from 0.95703\n",
      "8/8 [==============================] - 15s 2s/step - loss: 0.2234 - accuracy: 0.9277\n",
      "Epoch 45/50\n",
      "8/8 [==============================] - ETA: 0s - loss: 0.2125 - accuracy: 0.9258\n",
      "Epoch 45: accuracy did not improve from 0.95703\n",
      "8/8 [==============================] - 25s 3s/step - loss: 0.2125 - accuracy: 0.9258\n",
      "Epoch 46/50\n",
      "8/8 [==============================] - ETA: 0s - loss: 0.2094 - accuracy: 0.9297\n",
      "Epoch 46: accuracy did not improve from 0.95703\n",
      "8/8 [==============================] - 30s 4s/step - loss: 0.2094 - accuracy: 0.9297\n",
      "Epoch 47/50\n",
      "8/8 [==============================] - ETA: 0s - loss: 0.1476 - accuracy: 0.9570\n",
      "Epoch 47: accuracy did not improve from 0.95703\n",
      "8/8 [==============================] - 30s 4s/step - loss: 0.1476 - accuracy: 0.9570\n",
      "Epoch 48/50\n",
      "8/8 [==============================] - ETA: 0s - loss: 0.2002 - accuracy: 0.9414\n",
      "Epoch 48: accuracy did not improve from 0.95703\n",
      "8/8 [==============================] - 30s 4s/step - loss: 0.2002 - accuracy: 0.9414\n",
      "Epoch 49/50\n",
      "8/8 [==============================] - ETA: 0s - loss: 0.2302 - accuracy: 0.9258\n",
      "Epoch 49: accuracy did not improve from 0.95703\n",
      "8/8 [==============================] - 30s 4s/step - loss: 0.2302 - accuracy: 0.9258\n",
      "Epoch 50/50\n",
      "8/8 [==============================] - ETA: 0s - loss: 0.1776 - accuracy: 0.9414\n",
      "Epoch 50: accuracy did not improve from 0.95703\n",
      "8/8 [==============================] - 23s 3s/step - loss: 0.1776 - accuracy: 0.9414\n"
     ]
    }
   ],
   "source": [
    "#Model Training\n",
    "hs=model.fit_generator(generator=train_data,steps_per_epoch=8, epochs=50,verbose=1,validation_data=validation_data,validation_steps=16,\n",
    "                       callbacks=cd)"
   ]
  },
  {
   "cell_type": "code",
   "execution_count": 26,
   "metadata": {},
   "outputs": [],
   "source": [
    "# Model Accuracy\n",
    "from keras.models import load_model\n",
    "model=load_model(\"bestmodel.h5\")"
   ]
  },
  {
   "cell_type": "code",
   "execution_count": 27,
   "metadata": {},
   "outputs": [
    {
     "name": "stdout",
     "output_type": "stream",
     "text": [
      "93.9130425453186\n"
     ]
    }
   ],
   "source": [
    "acc=model.evaluate_generator(test_data)[1]\n",
    "print(acc*100)"
   ]
  },
  {
   "cell_type": "code",
   "execution_count": null,
   "metadata": {},
   "outputs": [],
   "source": []
  }
 ],
 "metadata": {
  "kernelspec": {
   "display_name": "Python 3",
   "language": "python",
   "name": "python3"
  },
  "language_info": {
   "codemirror_mode": {
    "name": "ipython",
    "version": 3
   },
   "file_extension": ".py",
   "mimetype": "text/x-python",
   "name": "python",
   "nbconvert_exporter": "python",
   "pygments_lexer": "ipython3",
   "version": "3.10.8"
  },
  "orig_nbformat": 4
 },
 "nbformat": 4,
 "nbformat_minor": 2
}
